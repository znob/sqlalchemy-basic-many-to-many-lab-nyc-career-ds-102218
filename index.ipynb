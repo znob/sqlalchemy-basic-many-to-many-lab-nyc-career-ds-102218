{
 "cells": [
  {
   "cell_type": "markdown",
   "metadata": {},
   "source": [
    "# SQLAlchemy Basic Many to Many Association"
   ]
  },
  {
   "cell_type": "markdown",
   "metadata": {},
   "source": [
    "## Objectives\n",
    "\n",
    "1.  Build a basic \"has many through\" relationship, consisting of a join table with only foreign keys, using SQLAlchemy\n",
    "3.  Query from a database containing this relationship"
   ]
  },
  {
   "cell_type": "markdown",
   "metadata": {},
   "source": [
    "## Instructions\n",
    "\n",
    "In the \"One to many\" associations lab, we used SQLAlchemy to establish a \"belongs to\" and \"has many\" relationship between our `Actor` and `Role` classes.  Every instance of the Actor class had many roles, and each instance of the Role class belonged to an Actor.\n",
    "\n",
    "However, this relationship might not accurately represent the equivalent real world relationship.  Although Actors do have many Roles, shouldn't a Role also have many Actors?  For instance, the role of James Bond has been played by Sean Connery, George Lazenby, Roger Moore, Pierce Brosnan, and Daniel Craig.  In this lab, we will build out this \"many to many\" relationship by creating a join table called `actor_roles` containing `actor_id` and `role_id` columns.  The `actor_roles` table will only have these foreign keys, so there's no need for a full SQLAlchemy Association Object."
   ]
  },
  {
   "cell_type": "markdown",
   "metadata": {},
   "source": [
    "> **Note**: After we write all of our models, we need not run our `models.py` file in the terminal for this lab.  The test file does this for us already."
   ]
  },
  {
   "cell_type": "markdown",
   "metadata": {},
   "source": [
    "#### `Actor` and `Role`"
   ]
  },
  {
   "cell_type": "markdown",
   "metadata": {},
   "source": [
    "* Create classes for `Actor` and `Role` in `models.py`\n",
    "    * Every Actor has an id (primary key) and a name\n",
    "    * Every Role has an id (primary key) and a character"
   ]
  },
  {
   "cell_type": "markdown",
   "metadata": {},
   "source": [
    "#### `ActorRole`"
   ]
  },
  {
   "cell_type": "markdown",
   "metadata": {},
   "source": [
    "* Create a class for ActorRole in `models.py` that will serve as the join table\n",
    "* Each ActorRole instance will have an `actor_id` and a `role_id`. Both will use the ForeignKey to establish the relationship like so:\n",
    "    \n",
    ">  ```\n",
    "Column(Integer, ForeignKey('actors.id'), primary_key=True)\n",
    "```"
   ]
  },
  {
   "cell_type": "markdown",
   "metadata": {},
   "source": [
    "#### Update `Actor` and `Role` models"
   ]
  },
  {
   "cell_type": "markdown",
   "metadata": {},
   "source": [
    "* Establish the association between the two models with the `relationship()` function\n",
    "    - Actor: `roles = relationship('Role', secondary='actor_roles')`\n",
    "    \n",
    "    - Role: `actors = relationship('Actor', secondary='actor_roles')`"
   ]
  },
  {
   "cell_type": "markdown",
   "metadata": {},
   "source": [
    "> **Note**: Run `python -i models.py` in the terminal to test our models and make sure that the relationships are set up properly. We can test our code by creating a few actors and roles and associating them together."
   ]
  },
  {
   "cell_type": "markdown",
   "metadata": {},
   "source": [
    "#### Query from the relationship"
   ]
  },
  {
   "cell_type": "markdown",
   "metadata": {},
   "source": [
    "Write the following queries in `query.py` to satisfy the tests.\n",
    "\n",
    "* `return_christian_bales_roles` should return the list of Christian Bale's role instances\n",
    "\n",
    "* `return_catwoman_actors` should return the list of actors that have played Catwoman\n",
    "\n",
    "* `return_number_of_batman_actors` should return the number of actors in the database who have played Batman"
   ]
  }
 ],
 "metadata": {
  "kernelspec": {
   "display_name": "Python 3",
   "language": "python",
   "name": "python3"
  },
  "language_info": {
   "codemirror_mode": {
    "name": "ipython",
    "version": 3
   },
   "file_extension": ".py",
   "mimetype": "text/x-python",
   "name": "python",
   "nbconvert_exporter": "python",
   "pygments_lexer": "ipython3",
   "version": "3.6.6"
  }
 },
 "nbformat": 4,
 "nbformat_minor": 2
}
